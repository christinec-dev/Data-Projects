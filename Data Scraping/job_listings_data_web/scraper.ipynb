{
 "cells": [
  {
   "cell_type": "markdown",
   "metadata": {},
   "source": [
    "# Google Job Listings Data Scraper"
   ]
  },
  {
   "cell_type": "markdown",
   "metadata": {},
   "source": [
    "This project provides a Python-based scraper designed to extract and analyze job listings from the [Google](www.google.com/about/careers/applications/jobs) careers website. By automating data collection, this scraper facilitates efficient analysis and visualization of job details, including job titles, companies, locations, and levels. By using libraries like `selenium`, `beautifulsoup4`, and `pandas`, the scraper retrieves, processes, and transforms the data into a structured format for further insights."
   ]
  },
  {
   "cell_type": "markdown",
   "metadata": {},
   "source": [
    "## Data Extraction\n",
    "The scraper uses Selenium and BeautifulSoup to handle dynamic content and extract detailed job information from multiple pages. It automate browser actions, parse HTML content, and organize data for analysis. The extracted data is organized into a pandas DataFrame, making it easy to manipulate and analyze."
   ]
  },
  {
   "cell_type": "code",
   "execution_count": 114,
   "metadata": {},
   "outputs": [],
   "source": [
    "# Imports\n",
    "from selenium import webdriver\n",
    "from selenium.webdriver.common.by import By\n",
    "from selenium.webdriver.support.ui import WebDriverWait\n",
    "from selenium.webdriver.support import expected_conditions as EC\n",
    "from bs4 import BeautifulSoup as bs\n",
    "import matplotlib.pyplot as plt\n",
    "import pandas as pd\n",
    "import time"
   ]
  },
  {
   "cell_type": "code",
   "execution_count": 115,
   "metadata": {},
   "outputs": [],
   "source": [
    "def get_soup_from_driver(driver):\n",
    "    \"\"\"Get a BeautifulSoup object from a Selenium WebDriver\"\"\"\n",
    "    return bs(driver.page_source, 'html.parser')\n",
    "\n",
    "def get_job_details(driver):\n",
    "    \"\"\"Extract job details\"\"\"\n",
    "    jobs = []\n",
    "    base_url = \"https://www.google.com/about/careers/applications/jobs/results/\"\n",
    "    # Navigate through pages 1 to 3\n",
    "    for page in range(1, 4):\n",
    "        # Parse the loaded page\n",
    "        url = f\"{base_url}?page={page}\"\n",
    "        driver.get(url)\n",
    "        time.sleep(2)  \n",
    "        soup = get_soup_from_driver(driver)\n",
    "\n",
    "        # Find all job elements\n",
    "        link_elements = soup.find_all('a', class_='WpHeLc VfPpkd-mRLv6 VfPpkd-RLmnJb')\n",
    "        title_elements = soup.find_all('h3', class_='QJPWVe')\n",
    "        company_elements_outer = soup.find_all('span', class_='RP7SMd')\n",
    "        company_elements_inner = [outer_span.find('span') for outer_span in company_elements_outer]\n",
    "        location_elements = soup.find_all('span', class_='r0wTof')\n",
    "        level_elements = soup.find_all('span', class_='wVSTAb')\n",
    "        min_length = min(len(title_elements), len(link_elements), len(company_elements_inner), len(location_elements), len(level_elements))\n",
    "\n",
    "        # Extract text or attributes from each element\n",
    "        for i in range(min_length):\n",
    "            link = 'https://www.google.com/about/careers/applications/' + link_elements[i]['href']\n",
    "            title = title_elements[i].text.strip()\n",
    "            company = company_elements_inner[i].text.strip()\n",
    "            location = location_elements[i].text.strip()\n",
    "            level = level_elements[i].text.strip()\n",
    "\n",
    "            # Navigate to the job detail page to extract the description\n",
    "            driver.get(link) \n",
    "            time.sleep(2) \n",
    "            job_soup = get_soup_from_driver(driver)\n",
    "            \n",
    "            # Replace with actual class for description\n",
    "            description_element = job_soup.find('div', class_='KwJkGe')  \n",
    "            description = description_element.text.strip() if description_element else \"No description available\"\n",
    "            jobs.append((title, link, company, location, description, level))\n",
    "    return jobs\n",
    "\n",
    "# Set up Selenium WebDriver (in this case Chrome)\n",
    "driver = webdriver.Chrome() \n",
    "\n",
    "# Get job details\n",
    "job_details = get_job_details(driver)\n",
    "\n",
    "# Convert to DataFrame\n",
    "df = pd.DataFrame(job_details, columns=['Title', 'Link', 'Company', 'Location', 'Description', 'Level'])\n",
    "\n",
    "# Close the driver\n",
    "driver.quit()"
   ]
  },
  {
   "cell_type": "code",
   "execution_count": 116,
   "metadata": {},
   "outputs": [
    {
     "data": {
      "text/html": [
       "<div>\n",
       "<style scoped>\n",
       "    .dataframe tbody tr th:only-of-type {\n",
       "        vertical-align: middle;\n",
       "    }\n",
       "\n",
       "    .dataframe tbody tr th {\n",
       "        vertical-align: top;\n",
       "    }\n",
       "\n",
       "    .dataframe thead th {\n",
       "        text-align: right;\n",
       "    }\n",
       "</style>\n",
       "<table border=\"1\" class=\"dataframe\">\n",
       "  <thead>\n",
       "    <tr style=\"text-align: right;\">\n",
       "      <th></th>\n",
       "      <th>Title</th>\n",
       "      <th>Link</th>\n",
       "      <th>Company</th>\n",
       "      <th>Location</th>\n",
       "      <th>Description</th>\n",
       "      <th>Level</th>\n",
       "    </tr>\n",
       "  </thead>\n",
       "  <tbody>\n",
       "    <tr>\n",
       "      <th>0</th>\n",
       "      <td>Software Engineer III, Infrastructure, Core</td>\n",
       "      <td>https://www.google.com/about/careers/applicati...</td>\n",
       "      <td>Google</td>\n",
       "      <td>Bengaluru, Karnataka, India</td>\n",
       "      <td>Minimum qualifications:\\nBachelor’s degree or ...</td>\n",
       "      <td>Mid</td>\n",
       "    </tr>\n",
       "    <tr>\n",
       "      <th>1</th>\n",
       "      <td>Program Manager II, Compliance and Risk Manage...</td>\n",
       "      <td>https://www.google.com/about/careers/applicati...</td>\n",
       "      <td>Google</td>\n",
       "      <td>Bengaluru, Karnataka, India</td>\n",
       "      <td>Minimum qualifications:\\nBachelor's degree or ...</td>\n",
       "      <td>Mid</td>\n",
       "    </tr>\n",
       "    <tr>\n",
       "      <th>2</th>\n",
       "      <td>MicroLED Display Product Engineer</td>\n",
       "      <td>https://www.google.com/about/careers/applicati...</td>\n",
       "      <td>Google</td>\n",
       "      <td>Reston, VA, USA</td>\n",
       "      <td>Minimum qualifications:\\nBachelor’s degree in ...</td>\n",
       "      <td>Mid</td>\n",
       "    </tr>\n",
       "    <tr>\n",
       "      <th>3</th>\n",
       "      <td>Staff Systems Development Engineering Manager,...</td>\n",
       "      <td>https://www.google.com/about/careers/applicati...</td>\n",
       "      <td>Google</td>\n",
       "      <td>Reston, VA, USA</td>\n",
       "      <td>Minimum qualifications:\\nBachelor's degree in ...</td>\n",
       "      <td>Advanced</td>\n",
       "    </tr>\n",
       "    <tr>\n",
       "      <th>4</th>\n",
       "      <td>Program Manager, Strategic Business Operations</td>\n",
       "      <td>https://www.google.com/about/careers/applicati...</td>\n",
       "      <td>Google</td>\n",
       "      <td>Fremont, CA, USA</td>\n",
       "      <td>info_outlineXInfo Note: By applying to this po...</td>\n",
       "      <td>Mid</td>\n",
       "    </tr>\n",
       "  </tbody>\n",
       "</table>\n",
       "</div>"
      ],
      "text/plain": [
       "                                               Title  \\\n",
       "0        Software Engineer III, Infrastructure, Core   \n",
       "1  Program Manager II, Compliance and Risk Manage...   \n",
       "2                  MicroLED Display Product Engineer   \n",
       "3  Staff Systems Development Engineering Manager,...   \n",
       "4     Program Manager, Strategic Business Operations   \n",
       "\n",
       "                                                Link Company  \\\n",
       "0  https://www.google.com/about/careers/applicati...  Google   \n",
       "1  https://www.google.com/about/careers/applicati...  Google   \n",
       "2  https://www.google.com/about/careers/applicati...  Google   \n",
       "3  https://www.google.com/about/careers/applicati...  Google   \n",
       "4  https://www.google.com/about/careers/applicati...  Google   \n",
       "\n",
       "                      Location  \\\n",
       "0  Bengaluru, Karnataka, India   \n",
       "1  Bengaluru, Karnataka, India   \n",
       "2              Reston, VA, USA   \n",
       "3              Reston, VA, USA   \n",
       "4             Fremont, CA, USA   \n",
       "\n",
       "                                         Description     Level  \n",
       "0  Minimum qualifications:\\nBachelor’s degree or ...       Mid  \n",
       "1  Minimum qualifications:\\nBachelor's degree or ...       Mid  \n",
       "2  Minimum qualifications:\\nBachelor’s degree in ...       Mid  \n",
       "3  Minimum qualifications:\\nBachelor's degree in ...  Advanced  \n",
       "4  info_outlineXInfo Note: By applying to this po...       Mid  "
      ]
     },
     "execution_count": 116,
     "metadata": {},
     "output_type": "execute_result"
    }
   ],
   "source": [
    "# Display dataframe\n",
    "df.head()"
   ]
  },
  {
   "cell_type": "markdown",
   "metadata": {},
   "source": [
    "## Data Preprocessing\n",
    "\n",
    "The extracted data is processed to remove any missing values and unnecessary columns or rows, enhancing its usability for the end user. "
   ]
  },
  {
   "cell_type": "code",
   "execution_count": 117,
   "metadata": {},
   "outputs": [
    {
     "name": "stdout",
     "output_type": "stream",
     "text": [
      "\n",
      "Missing values: \n",
      "Title          0\n",
      "Link           0\n",
      "Company        0\n",
      "Location       0\n",
      "Description    0\n",
      "Level          0\n",
      "dtype: int64\n"
     ]
    }
   ],
   "source": [
    "# Check missing values\n",
    "print(\"\\nMissing values: \")\n",
    "print(df.isna().sum())"
   ]
  },
  {
   "cell_type": "code",
   "execution_count": 118,
   "metadata": {},
   "outputs": [
    {
     "name": "stdout",
     "output_type": "stream",
     "text": [
      "Before Replacement:\n",
      "0    Minimum qualifications:\\nBachelor’s degree or ...\n",
      "1    Minimum qualifications:\\nBachelor's degree or ...\n",
      "2    Minimum qualifications:\\nBachelor’s degree in ...\n",
      "3    Minimum qualifications:\\nBachelor's degree in ...\n",
      "4    info_outlineXInfo Note: By applying to this po...\n",
      "Name: Description, dtype: object\n",
      "\n",
      "After Replacement:\n",
      "0    Minimum qualifications: Bachelor’s degree or e...\n",
      "1    Minimum qualifications: Bachelor's degree or e...\n",
      "2    Minimum qualifications: Bachelor’s degree in E...\n",
      "3    Minimum qualifications: Bachelor's degree in C...\n",
      "4    Note: By applying to this position you will ha...\n",
      "Name: Description, dtype: object\n"
     ]
    }
   ],
   "source": [
    "# Replace odd values with appropriate strings\n",
    "df_copy = df.copy()\n",
    "df_copy['Description'] = df_copy['Description'].str.replace(\"info_outlineX\", \"\")\n",
    "df_copy['Description'] = df_copy['Description'].str.replace(\"Info \", \"\")\n",
    "df_copy['Description'] = df_copy['Description'].str.replace(\"\\n\", \" \")\n",
    "df_copy['Location'] = df_copy['Location'].str.replace(\";\", \"\")\n",
    "\n",
    "print(\"Before Replacement:\")\n",
    "print(df['Description'].head())\n",
    "\n",
    "print(\"\\nAfter Replacement:\")\n",
    "print(df_copy['Description'].head())"
   ]
  },
  {
   "cell_type": "code",
   "execution_count": 119,
   "metadata": {},
   "outputs": [
    {
     "data": {
      "text/html": [
       "<div>\n",
       "<style scoped>\n",
       "    .dataframe tbody tr th:only-of-type {\n",
       "        vertical-align: middle;\n",
       "    }\n",
       "\n",
       "    .dataframe tbody tr th {\n",
       "        vertical-align: top;\n",
       "    }\n",
       "\n",
       "    .dataframe thead th {\n",
       "        text-align: right;\n",
       "    }\n",
       "</style>\n",
       "<table border=\"1\" class=\"dataframe\">\n",
       "  <thead>\n",
       "    <tr style=\"text-align: right;\">\n",
       "      <th></th>\n",
       "      <th>Title</th>\n",
       "      <th>Link</th>\n",
       "      <th>Company</th>\n",
       "      <th>Location</th>\n",
       "      <th>Description</th>\n",
       "      <th>Level</th>\n",
       "    </tr>\n",
       "  </thead>\n",
       "  <tbody>\n",
       "    <tr>\n",
       "      <th>0</th>\n",
       "      <td>Software Engineer III, Infrastructure, Core</td>\n",
       "      <td>https://www.google.com/about/careers/applicati...</td>\n",
       "      <td>Google</td>\n",
       "      <td>Bengaluru, Karnataka, India</td>\n",
       "      <td>Minimum qualifications: Bachelor’s degree or e...</td>\n",
       "      <td>Mid</td>\n",
       "    </tr>\n",
       "    <tr>\n",
       "      <th>1</th>\n",
       "      <td>Program Manager II, Compliance and Risk Manage...</td>\n",
       "      <td>https://www.google.com/about/careers/applicati...</td>\n",
       "      <td>Google</td>\n",
       "      <td>Bengaluru, Karnataka, India</td>\n",
       "      <td>Minimum qualifications: Bachelor's degree or e...</td>\n",
       "      <td>Mid</td>\n",
       "    </tr>\n",
       "    <tr>\n",
       "      <th>2</th>\n",
       "      <td>MicroLED Display Product Engineer</td>\n",
       "      <td>https://www.google.com/about/careers/applicati...</td>\n",
       "      <td>Google</td>\n",
       "      <td>Reston, VA, USA</td>\n",
       "      <td>Minimum qualifications: Bachelor’s degree in E...</td>\n",
       "      <td>Mid</td>\n",
       "    </tr>\n",
       "    <tr>\n",
       "      <th>3</th>\n",
       "      <td>Staff Systems Development Engineering Manager,...</td>\n",
       "      <td>https://www.google.com/about/careers/applicati...</td>\n",
       "      <td>Google</td>\n",
       "      <td>Reston, VA, USA</td>\n",
       "      <td>Minimum qualifications: Bachelor's degree in C...</td>\n",
       "      <td>Advanced</td>\n",
       "    </tr>\n",
       "    <tr>\n",
       "      <th>4</th>\n",
       "      <td>Program Manager, Strategic Business Operations</td>\n",
       "      <td>https://www.google.com/about/careers/applicati...</td>\n",
       "      <td>Google</td>\n",
       "      <td>Fremont, CA, USA</td>\n",
       "      <td>Note: By applying to this position you will ha...</td>\n",
       "      <td>Mid</td>\n",
       "    </tr>\n",
       "  </tbody>\n",
       "</table>\n",
       "</div>"
      ],
      "text/plain": [
       "                                               Title  \\\n",
       "0        Software Engineer III, Infrastructure, Core   \n",
       "1  Program Manager II, Compliance and Risk Manage...   \n",
       "2                  MicroLED Display Product Engineer   \n",
       "3  Staff Systems Development Engineering Manager,...   \n",
       "4     Program Manager, Strategic Business Operations   \n",
       "\n",
       "                                                Link Company  \\\n",
       "0  https://www.google.com/about/careers/applicati...  Google   \n",
       "1  https://www.google.com/about/careers/applicati...  Google   \n",
       "2  https://www.google.com/about/careers/applicati...  Google   \n",
       "3  https://www.google.com/about/careers/applicati...  Google   \n",
       "4  https://www.google.com/about/careers/applicati...  Google   \n",
       "\n",
       "                      Location  \\\n",
       "0  Bengaluru, Karnataka, India   \n",
       "1  Bengaluru, Karnataka, India   \n",
       "2              Reston, VA, USA   \n",
       "3              Reston, VA, USA   \n",
       "4             Fremont, CA, USA   \n",
       "\n",
       "                                         Description     Level  \n",
       "0  Minimum qualifications: Bachelor’s degree or e...       Mid  \n",
       "1  Minimum qualifications: Bachelor's degree or e...       Mid  \n",
       "2  Minimum qualifications: Bachelor’s degree in E...       Mid  \n",
       "3  Minimum qualifications: Bachelor's degree in C...  Advanced  \n",
       "4  Note: By applying to this position you will ha...       Mid  "
      ]
     },
     "execution_count": 119,
     "metadata": {},
     "output_type": "execute_result"
    }
   ],
   "source": [
    "# Display dataframe\n",
    "df_copy.head()"
   ]
  },
  {
   "cell_type": "markdown",
   "metadata": {},
   "source": [
    "#### Visualization for usability testing"
   ]
  },
  {
   "cell_type": "code",
   "execution_count": 125,
   "metadata": {},
   "outputs": [
    {
     "data": {
      "image/png": "[encoded data removed]",
      "text/plain": [
       "<Figure size 1000x1000 with 1 Axes>"
      ]
     },
     "metadata": {},
     "output_type": "display_data"
    }
   ],
   "source": [
    "# Group by Location and Level, and count occurrences\n",
    "grouped = df_copy.groupby(['Location', 'Level']).size().reset_index(name='Count')\n",
    "pivot_table = grouped.pivot(index='Location', columns='Level', values='Count').fillna(0)\n",
    "\n",
    "# Plotting\n",
    "plt.figure(figsize=(10, 10))\n",
    "pivot_table.plot(kind='bar', stacked=True, ax=plt.gca())\n",
    "plt.title('Google Job Levels per Location')\n",
    "plt.xlabel('Location')\n",
    "plt.ylabel('Number of Jobs')\n",
    "plt.xticks(rotation=90)\n",
    "plt.legend(title='Level')\n",
    "plt.tight_layout()\n",
    "plt.show()"
   ]
  },
  {
   "cell_type": "markdown",
   "metadata": {},
   "source": [
    "## Data Exporting\n",
    "\n",
    "The processed data is exported to both Excel and CSV formats. This allows analysts to perform further analysis using spreadsheet software or import the data into other analytical tools."
   ]
  },
  {
   "cell_type": "code",
   "execution_count": 121,
   "metadata": {},
   "outputs": [
    {
     "name": "stdout",
     "output_type": "stream",
     "text": [
      "Data exported to google_jobs_data.csv\n",
      "Data exported to google_jobs_data.xlsx\n"
     ]
    }
   ],
   "source": [
    "# File names\n",
    "csv_file = 'google_jobs_data.csv'\n",
    "excel_file = 'google_jobs_data.xlsx'\n",
    "\n",
    "# Export to CSV\n",
    "try:\n",
    "    df_copy.to_csv(csv_file, index=False)\n",
    "    print(f\"Data exported to {csv_file}\")\n",
    "except PermissionError as e:\n",
    "    print(f\"Permission error while writing to {csv_file}: {e}\")\n",
    "\n",
    "# Export to Excel\n",
    "try:\n",
    "    df_copy.to_excel(excel_file, index=False, sheet_name='Google Jobs Data')\n",
    "    print(f\"Data exported to {excel_file}\")\n",
    "except PermissionError as e:\n",
    "    print(f\"Permission error while writing to {excel_file}: {e}\")"
   ]
  }
 ],
 "metadata": {
  "kernelspec": {
   "display_name": "my-env",
   "language": "python",
   "name": "python3"
  },
  "language_info": {
   "codemirror_mode": {
    "name": "ipython",
    "version": 3
   },
   "file_extension": ".py",
   "mimetype": "text/x-python",
   "name": "python",
   "nbconvert_exporter": "python",
   "pygments_lexer": "ipython3",
   "version": "3.13.2"
  }
 },
 "nbformat": 4,
 "nbformat_minor": 2
}
